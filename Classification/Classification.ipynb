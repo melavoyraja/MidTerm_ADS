{
 "cells": [
  {
   "cell_type": "markdown",
   "metadata": {},
   "source": [
    "# Loan Performance Data Set - Classification of Loan Delinquency Status"
   ]
  },
  {
   "cell_type": "code",
   "execution_count": 1,
   "metadata": {
    "collapsed": true,
    "deletable": true,
    "editable": true
   },
   "outputs": [],
   "source": [
    "import sys\n",
    "import datetime as dt\n",
    "import pandas as pd\n",
    "import urllib.request\n",
    "import zipfile, io\n",
    "import csv\n",
    "import numpy as np\n",
    "import math\n",
    "import matplotlib.pyplot as plt\n",
    "from matplotlib import style\n",
    "import seaborn as sns\n",
    "from sklearn.linear_model import LogisticRegression\n",
    "from sklearn.ensemble import RandomForestClassifier\n",
    "from sklearn import neighbors\n",
    "from sklearn import svm\n",
    "from sklearn import metrics\n",
    "from sklearn import neural_network\n",
    "from sklearn.feature_selection import RFE\n",
    "from sklearn import preprocessing\n",
    "from sklearn.feature_selection import SelectKBest\n",
    "from sklearn.feature_selection import chi2\n",
    "from sklearn.feature_selection import f_classif"
   ]
  },
  {
   "cell_type": "markdown",
   "metadata": {},
   "source": [
    "Preprocessing of Data"
   ]
  },
  {
   "cell_type": "code",
   "execution_count": 2,
   "metadata": {
    "collapsed": true
   },
   "outputs": [],
   "source": [
    "def preprocess(df_input):\n",
    "    #Remove Spaces and Unknown\n",
    "    df_input['CURRENT_LOAN_DELINQUENCY_STATUS'] = df_input['CURRENT_LOAN_DELINQUENCY_STATUS'].replace(['XX','   '],np.nan)\n",
    "    df_input['REPURCHASE_FLAG'] = df_input['REPURCHASE_FLAG'].replace(['  '],'NA')\n",
    "    df_input['MODIFICATION_FLAG'] = df_input['MODIFICATION_FLAG'].replace(['  '],'not_modfified')\n",
    "    df_input['ZERO_BALANCE_CODE'] = df_input['ZERO_BALANCE_CODE'].replace(['  '],'NA')\n",
    "    df_input['ZERO_BALANCE_EFFECTIVE_DATE'] = df_input['ZERO_BALANCE_EFFECTIVE_DATE'].replace(['      '],'NA')\n",
    "    return df_input"
   ]
  },
  {
   "cell_type": "code",
   "execution_count": 3,
   "metadata": {
    "collapsed": true
   },
   "outputs": [],
   "source": [
    "def handleMissingData(df_input):\n",
    "    #If null LOAN_SEQUENCE_NUMBER replace with NA\n",
    "    df_input['LOAN_SEQUENCE_NUMBER'].fillna('NA',inplace=True)\n",
    "    #If null replace CURRENT_ACTUAL_UPB with mean\n",
    "    #df_input['CURRENT_ACTUAL_UPB'].fillna(0,inplace=True)\n",
    "    #df_input['CURRENT_ACTUAL_UPB'].replace(0,df.Credit_Score.mean(),inplace=True)\n",
    "    #If null Forward Fill or Bottom MONTHLY_REPORTING_PERIOD if null\n",
    "    df_input.MONTHLY_REPORTING_PERIOD.fillna(method='ffill',inplace=True)\n",
    "    df_input.MONTHLY_REPORTING_PERIOD.fillna(method='bfill',inplace=True)\n",
    "    #Drop Rows of CURRENT_LOAN_DELINQUENCY_STATUS if Null\n",
    "    df_input=df_input[~ df_input['CURRENT_LOAN_DELINQUENCY_STATUS'].isnull()]\n",
    "    #Interpolate LOAN_AGE, REMAINING_MONTHS_TO_LEGAL_MATURITY\n",
    "    df_input['LOAN_AGE'] = df_input['LOAN_AGE'].interpolate()\n",
    "    df_input['REMAINING_MONTHS_TO_LEGAL_MATURITY'] = df_input['REMAINING_MONTHS_TO_LEGAL_MATURITY'].interpolate()\n",
    "    #REPURCHASE_FLAG if null fill unknown\n",
    "    df_input['REPURCHASE_FLAG'].fillna('unknown',inplace=True)\n",
    "    #MODIFICATION_FLAG if null fill unknown\n",
    "    df_input['MODIFICATION_FLAG'].fillna('unknown',inplace=True)\n",
    "    #ZERO_BALANCE_CODE if null fill unknown\n",
    "    df_input['ZERO_BALANCE_CODE'].fillna('unknown',inplace=True)\n",
    "    #ZERO_BALANCE_EFFECTIVE_DATE if null fill NA    \n",
    "    df_input['ZERO_BALANCE_EFFECTIVE_DATE'].fillna('NA',inplace=True)\n",
    "    #CURRENT_INTEREST_RATE interpolate\n",
    "    df_input['CURRENT_INTEREST_RATE'] = df_input['CURRENT_INTEREST_RATE'].interpolate()    \n",
    "    #MI_RECOVERIES\n",
    "    df_input['MI_RECOVERIES'].fillna(0,inplace=True)\n",
    "    #NET_SALES_PROCEEDS \n",
    "    df_input['NET_SALES_PROCEEDS'].fillna(0,inplace=True)\n",
    "    #NON_MI_RECOVERIES\n",
    "    df_input['NON_MI_RECOVERIES'].fillna(0,inplace=True)\n",
    "    #EXPENSES                      \n",
    "    df_input['EXPENSES'].fillna(0,inplace=True)\n",
    "    #Legal_Costs                   \n",
    "    df_input['Legal_Costs'].fillna(0,inplace=True)\n",
    "    #Maintenance_and_Preservation_Costs\n",
    "    df_input['Maintenance_and_Preservation_Costs'].fillna(0,inplace=True)\n",
    "    #Taxes_and_Insurance\n",
    "    df_input['Taxes_and_Insurance'].fillna(0,inplace=True)\n",
    "    #Miscellaneous_Expenses\n",
    "    df_input['Miscellaneous_Expenses'].fillna(0,inplace=True)\n",
    "    #Actual_Loss_Calculation\n",
    "    df_input['Actual_Loss_Calculation'].fillna(0,inplace=True)\n",
    "    #Modification_Cost\n",
    "    df_input['Modification_Cost'].fillna(0,inplace=True)\n",
    "    return df_input"
   ]
  },
  {
   "cell_type": "code",
   "execution_count": 4,
   "metadata": {
    "collapsed": true
   },
   "outputs": [],
   "source": [
    "def addNewColumnDelinquentorNonDelinquent(df):\n",
    "    df['NEW_LOAN_DELINQUENCY_STATUS'] = pd.to_numeric(df.CURRENT_LOAN_DELINQUENCY_STATUS,errors = 'coerce')\n",
    "    df['NEW_LOAN_DELINQUENCY_STATUS'].fillna(1, inplace = True)\n",
    "    df_notZeros = df.NEW_LOAN_DELINQUENCY_STATUS[df['NEW_LOAN_DELINQUENCY_STATUS'] != 0]\n",
    "    df_notZeros = df_notZeros/df_notZeros\n",
    "    print(df_notZeros.shape)\n",
    "    df_Zeros = df.NEW_LOAN_DELINQUENCY_STATUS[df['NEW_LOAN_DELINQUENCY_STATUS'] == 0]\n",
    "    print(df_Zeros.shape)\n",
    "    df_y = df_notZeros.append(df_Zeros)\n",
    "    df['NEW_LOAN_DELINQUENCY_STATUS'] = df_y\n",
    "    return df"
   ]
  },
  {
   "cell_type": "code",
   "execution_count": 5,
   "metadata": {
    "collapsed": false
   },
   "outputs": [],
   "source": [
    "def checkPercentageOfMissingData(df):\n",
    "    mis_val_percent = 100 * df.isnull().sum()/len(df)\n",
    "    print(mis_val_percent)"
   ]
  },
  {
   "cell_type": "code",
   "execution_count": 6,
   "metadata": {
    "collapsed": true
   },
   "outputs": [],
   "source": [
    "def normalizeColumn(df_col):\n",
    "    return preprocessing.normalize(df_col)"
   ]
  },
  {
   "cell_type": "code",
   "execution_count": 7,
   "metadata": {
    "collapsed": false,
    "deletable": true,
    "editable": true
   },
   "outputs": [],
   "source": [
    "def createDFfromURL(fileURL):\n",
    "    response = urllib.request.urlopen(fileURL)\n",
    "    df = pd.DataFrame()\n",
    "    if response.getcode()==200:\n",
    "        data = response.read()\n",
    "        if zipfile.is_zipfile(io.BytesIO(data)) == True:\n",
    "            #print(\"Valid Zip file\")\n",
    "            z = zipfile.ZipFile(io.BytesIO(data))\n",
    "            for file in z.namelist():\n",
    "                #print(file)\n",
    "                if file.find('_time_') != -1:\n",
    "                    print(\"inside: \"+file)\n",
    "                    #print('Inside IF True')\n",
    "                    csvFile = z.read(file)\n",
    "                    df = pd.read_csv(io.BytesIO(csvFile),sep=\"|\",header=None)\n",
    "    print(df.shape)\n",
    "    df.columns = ['LOAN_SEQUENCE_NUMBER','MONTHLY_REPORTING_PERIOD','CURRENT_ACTUAL_UPB','CURRENT_LOAN_DELINQUENCY_STATUS','LOAN_AGE','REMAINING_MONTHS_TO_LEGAL_MATURITY','REPURCHASE_FLAG','MODIFICATION_FLAG','ZERO_BALANCE_CODE','ZERO_BALANCE_EFFECTIVE_DATE','CURRENT_INTEREST_RATE','CURRENT_DEFERRED_UPB','DUE_DATE_OF_LAST_PAID_INSTALLMENT','MI_RECOVERIES','NET_SALES_PROCEEDS','NON_MI_RECOVERIES','EXPENSES','Legal_Costs','Maintenance_and_Preservation_Costs','Taxes_and_Insurance','Miscellaneous_Expenses','Actual_Loss_Calculation','Modification_Cost','unknown']\n",
    "    return df"
   ]
  },
  {
   "cell_type": "code",
   "execution_count": 8,
   "metadata": {
    "collapsed": false
   },
   "outputs": [],
   "source": [
    "def filterFrameWithRequiredFeatuers(df_input,df_input_test, ranking):\n",
    "    df_new_train_x = pd.DataFrame()\n",
    "    df_new_test_x = pd.DataFrame()\n",
    "    print(df_new_test_x.head())\n",
    "    for i in ranking_out:\n",
    "        score,col_name  = i\n",
    "        if score == 1:\n",
    "            df_new_train_x[col_name] = df_input[col_name]\n",
    "            df_new_test_x[col_name] = df_input_test[col_name]\n",
    "    checkPercentageOfMissingData(df_new_train_x)\n",
    "    checkPercentageOfMissingData(df_new_test_x)\n",
    "    return (df_new_train_x,df_new_test_x)"
   ]
  },
  {
   "cell_type": "code",
   "execution_count": 9,
   "metadata": {
    "collapsed": false
   },
   "outputs": [],
   "source": [
    "def computeBestModel(list_of_model_and_accurancySocres):\n",
    "    best_algo = None\n",
    "    best_algo_accu_score = 0\n",
    "    best_algo_model = None\n",
    "    for value in list_of_model_and_accurancySocres:\n",
    "        if best_algo != None:\n",
    "            if value[1] > best_algo_accu_score:\n",
    "                best_algo = value[0]\n",
    "                best_algo_accu_score = value[1]\n",
    "                best_algo_model = value[2] \n",
    "        else:\n",
    "            best_algo = value[0]\n",
    "            best_algo_accu_score = value[1]\n",
    "            best_algo_model = value[2]\n",
    "    print(best_algo + ' is best model with Accuracy Score of: ' +str(best_algo_accu_score))\n",
    "    return best_algo"
   ]
  },
  {
   "cell_type": "code",
   "execution_count": 10,
   "metadata": {
    "collapsed": true
   },
   "outputs": [],
   "source": [
    "def logisticRegression(x_train, y_train):\n",
    "    print('Logistic Regression model computation has started')\n",
    "    model = LogisticRegression()\n",
    "    model.fit(x_train,y_train)\n",
    "    print('Logistic Regression model computation has completed')    \n",
    "    return (model, 'Logistic Regression')\n",
    "    #return model\n",
    "def predictAndEvaluate(model,x_test,y_test):\n",
    "    # predict class labels for the test set\n",
    "    print('Model testing has started')\n",
    "    predicted = model.predict(x_test)\n",
    "    probs = model.predict_proba(x_test)[:, 1]\n",
    "    print('Model testing has completed')\n",
    "    # generate evaluation metrics\n",
    "    accu_score = metrics.accuracy_score(y_test, predicted)\n",
    "    print('Accuracy Score: ' + str(accu_score))\n",
    "    cm = metrics.confusion_matrix(y_test, predicted)\n",
    "    print('Confusion Matrix:')\n",
    "    print(cm)\n",
    "    y_test = y_test.astype(np.float)\n",
    "    fpr, tpr, _ = metrics.roc_curve(y_test, probs)\n",
    "    #Plot ROC curve\n",
    "    %matplotlib inline\n",
    "    plt.figure()\n",
    "    plt.plot(fpr, tpr, label='ROC curve')\n",
    "    plt.plot([0, 1], [0, 1], 'k--')\n",
    "    plt.xlim([0.0, 1.0])\n",
    "    plt.ylim([0.0, 1.05])\n",
    "    plt.xlabel('Actual')\n",
    "    plt.ylabel('Predicted')\n",
    "    plt.title('ROC curve')\n",
    "    plt.legend(loc=\"lower right\")\n",
    "    plt.show()\n",
    "    return (accu_score,cm)"
   ]
  },
  {
   "cell_type": "code",
   "execution_count": 11,
   "metadata": {
    "collapsed": true
   },
   "outputs": [],
   "source": [
    "def randomForestClassifier(x_train, y_train):\n",
    "    print('Random Forest model computation has started')    \n",
    "    model = RandomForestClassifier(n_jobs=2)\n",
    "    model = model.fit(x_train,y_train)\n",
    "    print('Random Forest model computation has completed')    \n",
    "    return (model, 'Random Forest Classifier')"
   ]
  },
  {
   "cell_type": "code",
   "execution_count": 12,
   "metadata": {
    "collapsed": true
   },
   "outputs": [],
   "source": [
    "def neuralNetClassifier(x_train, y_train):\n",
    "    print('Neural Network based Classification model computation has started')     \n",
    "    model = neural_network.MLPClassifier(solver='lbfgs', alpha=1e-5, hidden_layer_sizes=(5, 2), random_state=1)\n",
    "    model = model.fit(x_train, y_train)\n",
    "    print('Neural Network based Classification model computation has completed')     \n",
    "    return (model,'Neural Network Classifier')"
   ]
  },
  {
   "cell_type": "code",
   "execution_count": 13,
   "metadata": {
    "collapsed": true
   },
   "outputs": [],
   "source": [
    "def svc(x_train, y_train):\n",
    "    print('Support Vector Classification model computation has started')    \n",
    "    model = svm.SVC(probability=True)\n",
    "    model = model.fit(x_train, y_train) \n",
    "    print('Support Vector Classification model computation has completed')     \n",
    "    return (model,'Support Vector Classification')"
   ]
  },
  {
   "cell_type": "code",
   "execution_count": 14,
   "metadata": {
    "collapsed": true
   },
   "outputs": [],
   "source": [
    "#Function to generate urlLIst for origination and next quarter URLs\n",
    "def generateURLList(quarter,year):\n",
    "    next_quarter = quarter +1\n",
    "    next_year = year +1\n",
    "    urlTrainList = []\n",
    "    urlTestList = []\n",
    "    train_url = \"https://freddiemac.embs.com/FLoan/Data/historical_data1_Q\" + str(quarter)+str(year)+ \".zip\"\n",
    "    urlTrainList.append(train_url)\n",
    "    if quarter == 4:\n",
    "        quarter=1\n",
    "        test_url = \"https://freddiemac.embs.com/FLoan/Data/historical_data1_Q\" + str(quarter)+str(next_year)+ \".zip\"\n",
    "        urlTestList.append(test_url)\n",
    "    else:\n",
    "        test_url = \"https://freddiemac.embs.com/FLoan/Data/historical_data1_Q\" + str(next_quarter)+str(year)+ \".zip\"\n",
    "        urlTestList.append(test_url) \n",
    "    return (urlTrainList,urlTestList)"
   ]
  },
  {
   "cell_type": "code",
   "execution_count": 15,
   "metadata": {
    "collapsed": false,
    "deletable": true,
    "editable": true,
    "scrolled": true
   },
   "outputs": [
    {
     "name": "stdout",
     "output_type": "stream",
     "text": [
      "https://freddiemac.embs.com/FLoan/Data/historical_data1_Q12006.zip\n",
      "https://freddiemac.embs.com/FLoan/Data/historical_data1_Q22006.zip\n"
     ]
    }
   ],
   "source": [
    "urlTrainList,urlTestList = generateURLList(1,2006)\n",
    "print(urlTrainList[0])\n",
    "print(urlTestList[0])"
   ]
  },
  {
   "cell_type": "code",
   "execution_count": 16,
   "metadata": {
    "collapsed": false
   },
   "outputs": [
    {
     "name": "stdout",
     "output_type": "stream",
     "text": [
      "inside: historical_data1_time_Q12006.txt\n"
     ]
    },
    {
     "name": "stderr",
     "output_type": "stream",
     "text": [
      "/usr/local/src/conda3_runtime/4.1.1/lib/python3.5/site-packages/IPython/core/interactiveshell.py:2825: DtypeWarning: Columns (14) have mixed types. Specify dtype option on import or set low_memory=False.\n",
      "  if self.run_code(code, result):\n"
     ]
    },
    {
     "name": "stdout",
     "output_type": "stream",
     "text": [
      "(19632673, 24)\n",
      "inside: historical_data1_time_Q22006.txt\n",
      "(18600067, 24)\n"
     ]
    }
   ],
   "source": [
    "df = createDFfromURL(urlTrainList[0])\n",
    "df_test = createDFfromURL(urlTestList[0])"
   ]
  },
  {
   "cell_type": "code",
   "execution_count": 17,
   "metadata": {
    "collapsed": false,
    "scrolled": true
   },
   "outputs": [
    {
     "name": "stdout",
     "output_type": "stream",
     "text": [
      "(1366952,)\n",
      "(18265721,)\n"
     ]
    }
   ],
   "source": [
    "#Preprocess Data, Handle Missing, Add NEW_LOAN_DELINQUENCY_STATUS \n",
    "df = preprocess(df)\n",
    "df = handleMissingData(df)\n",
    "df = addNewColumnDelinquentorNonDelinquent(df)"
   ]
  },
  {
   "cell_type": "code",
   "execution_count": 18,
   "metadata": {
    "collapsed": false,
    "scrolled": true
   },
   "outputs": [
    {
     "name": "stderr",
     "output_type": "stream",
     "text": [
      "/usr/local/src/conda3_runtime/4.1.1/lib/python3.5/site-packages/ipykernel/__main__.py:13: SettingWithCopyWarning: \n",
      "A value is trying to be set on a copy of a slice from a DataFrame.\n",
      "Try using .loc[row_indexer,col_indexer] = value instead\n",
      "\n",
      "See the caveats in the documentation: http://pandas.pydata.org/pandas-docs/stable/indexing.html#indexing-view-versus-copy\n",
      "/usr/local/src/conda3_runtime/4.1.1/lib/python3.5/site-packages/ipykernel/__main__.py:14: SettingWithCopyWarning: \n",
      "A value is trying to be set on a copy of a slice from a DataFrame.\n",
      "Try using .loc[row_indexer,col_indexer] = value instead\n",
      "\n",
      "See the caveats in the documentation: http://pandas.pydata.org/pandas-docs/stable/indexing.html#indexing-view-versus-copy\n",
      "/usr/local/src/conda3_runtime/4.1.1/lib/python3.5/site-packages/pandas/core/generic.py:3191: SettingWithCopyWarning: \n",
      "A value is trying to be set on a copy of a slice from a DataFrame\n",
      "\n",
      "See the caveats in the documentation: http://pandas.pydata.org/pandas-docs/stable/indexing.html#indexing-view-versus-copy\n",
      "  self._update_inplace(new_data)\n",
      "/usr/local/src/conda3_runtime/4.1.1/lib/python3.5/site-packages/ipykernel/__main__.py:24: SettingWithCopyWarning: \n",
      "A value is trying to be set on a copy of a slice from a DataFrame.\n",
      "Try using .loc[row_indexer,col_indexer] = value instead\n",
      "\n",
      "See the caveats in the documentation: http://pandas.pydata.org/pandas-docs/stable/indexing.html#indexing-view-versus-copy\n"
     ]
    },
    {
     "name": "stdout",
     "output_type": "stream",
     "text": [
      "(1348198,)\n",
      "(17251868,)\n"
     ]
    }
   ],
   "source": [
    "#Preprocess Data, Handle Missing, Add NEW_LOAN_DELINQUENCY_STATUS \n",
    "df_test = preprocess(df_test)\n",
    "df_test = handleMissingData(df_test)\n",
    "df_test = addNewColumnDelinquentorNonDelinquent(df_test)"
   ]
  },
  {
   "cell_type": "code",
   "execution_count": 19,
   "metadata": {
    "collapsed": false,
    "scrolled": true
   },
   "outputs": [
    {
     "name": "stdout",
     "output_type": "stream",
     "text": [
      "LOAN_SEQUENCE_NUMBER                   0.000000\n",
      "MONTHLY_REPORTING_PERIOD               0.000000\n",
      "CURRENT_ACTUAL_UPB                     0.000000\n",
      "CURRENT_LOAN_DELINQUENCY_STATUS        0.000000\n",
      "LOAN_AGE                               0.000000\n",
      "REMAINING_MONTHS_TO_LEGAL_MATURITY     0.000000\n",
      "REPURCHASE_FLAG                        0.000000\n",
      "MODIFICATION_FLAG                      0.000000\n",
      "ZERO_BALANCE_CODE                      0.000000\n",
      "ZERO_BALANCE_EFFECTIVE_DATE            0.000000\n",
      "CURRENT_INTEREST_RATE                  0.000000\n",
      "CURRENT_DEFERRED_UPB                   0.000000\n",
      "DUE_DATE_OF_LAST_PAID_INSTALLMENT     99.824655\n",
      "MI_RECOVERIES                          0.000000\n",
      "NET_SALES_PROCEEDS                     0.000000\n",
      "NON_MI_RECOVERIES                      0.000000\n",
      "EXPENSES                               0.000000\n",
      "Legal_Costs                            0.000000\n",
      "Maintenance_and_Preservation_Costs     0.000000\n",
      "Taxes_and_Insurance                    0.000000\n",
      "Miscellaneous_Expenses                 0.000000\n",
      "Actual_Loss_Calculation                0.000000\n",
      "Modification_Cost                      0.000000\n",
      "unknown                               99.930305\n",
      "NEW_LOAN_DELINQUENCY_STATUS            0.000000\n",
      "dtype: float64\n",
      "LOAN_SEQUENCE_NUMBER                   0.000000\n",
      "MONTHLY_REPORTING_PERIOD               0.000000\n",
      "CURRENT_ACTUAL_UPB                     0.000000\n",
      "CURRENT_LOAN_DELINQUENCY_STATUS        0.000000\n",
      "LOAN_AGE                               0.000000\n",
      "REMAINING_MONTHS_TO_LEGAL_MATURITY     0.000000\n",
      "REPURCHASE_FLAG                        0.000000\n",
      "MODIFICATION_FLAG                      0.000000\n",
      "ZERO_BALANCE_CODE                      0.000000\n",
      "ZERO_BALANCE_EFFECTIVE_DATE            0.000000\n",
      "CURRENT_INTEREST_RATE                  0.000000\n",
      "CURRENT_DEFERRED_UPB                   0.000000\n",
      "DUE_DATE_OF_LAST_PAID_INSTALLMENT     99.815038\n",
      "MI_RECOVERIES                          0.000000\n",
      "NET_SALES_PROCEEDS                     0.000000\n",
      "NON_MI_RECOVERIES                      0.000000\n",
      "EXPENSES                               0.000000\n",
      "Legal_Costs                            0.000000\n",
      "Maintenance_and_Preservation_Costs     0.000000\n",
      "Taxes_and_Insurance                    0.000000\n",
      "Miscellaneous_Expenses                 0.000000\n",
      "Actual_Loss_Calculation                0.000000\n",
      "Modification_Cost                      0.000000\n",
      "unknown                               99.924941\n",
      "NEW_LOAN_DELINQUENCY_STATUS            0.000000\n",
      "dtype: float64\n"
     ]
    }
   ],
   "source": [
    "checkPercentageOfMissingData(df)\n",
    "checkPercentageOfMissingData(df_test)"
   ]
  },
  {
   "cell_type": "code",
   "execution_count": 20,
   "metadata": {
    "collapsed": false
   },
   "outputs": [
    {
     "data": {
      "text/plain": [
       "LOAN_SEQUENCE_NUMBER                   object\n",
       "MONTHLY_REPORTING_PERIOD                int64\n",
       "CURRENT_ACTUAL_UPB                    float64\n",
       "CURRENT_LOAN_DELINQUENCY_STATUS        object\n",
       "LOAN_AGE                                int64\n",
       "REMAINING_MONTHS_TO_LEGAL_MATURITY      int64\n",
       "REPURCHASE_FLAG                        object\n",
       "MODIFICATION_FLAG                      object\n",
       "ZERO_BALANCE_CODE                      object\n",
       "ZERO_BALANCE_EFFECTIVE_DATE            object\n",
       "CURRENT_INTEREST_RATE                 float64\n",
       "CURRENT_DEFERRED_UPB                  float64\n",
       "DUE_DATE_OF_LAST_PAID_INSTALLMENT     float64\n",
       "MI_RECOVERIES                         float64\n",
       "NET_SALES_PROCEEDS                     object\n",
       "NON_MI_RECOVERIES                     float64\n",
       "EXPENSES                              float64\n",
       "Legal_Costs                           float64\n",
       "Maintenance_and_Preservation_Costs    float64\n",
       "Taxes_and_Insurance                   float64\n",
       "Miscellaneous_Expenses                float64\n",
       "Actual_Loss_Calculation               float64\n",
       "Modification_Cost                     float64\n",
       "unknown                               float64\n",
       "NEW_LOAN_DELINQUENCY_STATUS           float64\n",
       "dtype: object"
      ]
     },
     "execution_count": 20,
     "metadata": {},
     "output_type": "execute_result"
    }
   ],
   "source": [
    "df.dtypes"
   ]
  },
  {
   "cell_type": "code",
   "execution_count": 21,
   "metadata": {
    "collapsed": false
   },
   "outputs": [],
   "source": [
    "#Factorize Data\n",
    "df['REPURCHASE_FLAG_FACTORIZE'] = pd.factorize(df['REPURCHASE_FLAG'])[0]\n",
    "df['MODIFICATION_FLAG_FACTORIZE'] = pd.factorize(df['MODIFICATION_FLAG'])[0]\n",
    "df['ZERO_BALANCE_CODE_FACTORIZE'] = pd.factorize(df['ZERO_BALANCE_CODE'])[0]\n",
    "df_test['REPURCHASE_FLAG_FACTORIZE'] = pd.factorize(df_test['REPURCHASE_FLAG'])[0]\n",
    "df_test['MODIFICATION_FLAG_FACTORIZE'] = pd.factorize(df_test['MODIFICATION_FLAG'])[0]\n",
    "df_test['ZERO_BALANCE_CODE_FACTORIZE'] = pd.factorize(df_test['ZERO_BALANCE_CODE'])[0]"
   ]
  },
  {
   "cell_type": "code",
   "execution_count": 22,
   "metadata": {
    "collapsed": false
   },
   "outputs": [
    {
     "name": "stdout",
     "output_type": "stream",
     "text": [
      "(19632673, 28)\n",
      "(18600066, 28)\n"
     ]
    }
   ],
   "source": [
    "print(df.shape)\n",
    "print(df_test.shape)"
   ]
  },
  {
   "cell_type": "code",
   "execution_count": 23,
   "metadata": {
    "collapsed": false,
    "scrolled": false
   },
   "outputs": [
    {
     "data": {
      "text/plain": [
       "CURRENT_ACTUAL_UPB                    float64\n",
       "LOAN_AGE                                int64\n",
       "REMAINING_MONTHS_TO_LEGAL_MATURITY      int64\n",
       "CURRENT_INTEREST_RATE                 float64\n",
       "CURRENT_DEFERRED_UPB                  float64\n",
       "MI_RECOVERIES                         float64\n",
       "NON_MI_RECOVERIES                     float64\n",
       "Actual_Loss_Calculation               float64\n",
       "Modification_Cost                     float64\n",
       "REPURCHASE_FLAG_FACTORIZE               int64\n",
       "MODIFICATION_FLAG_FACTORIZE             int64\n",
       "ZERO_BALANCE_CODE_FACTORIZE             int64\n",
       "EXPENSES                              float64\n",
       "dtype: object"
      ]
     },
     "execution_count": 23,
     "metadata": {},
     "output_type": "execute_result"
    }
   ],
   "source": [
    "x_train = pd.DataFrame()\n",
    "x_train = df[['CURRENT_ACTUAL_UPB','LOAN_AGE','REMAINING_MONTHS_TO_LEGAL_MATURITY','CURRENT_INTEREST_RATE','CURRENT_DEFERRED_UPB','MI_RECOVERIES','NON_MI_RECOVERIES','Actual_Loss_Calculation','Modification_Cost','REPURCHASE_FLAG_FACTORIZE','MODIFICATION_FLAG_FACTORIZE','ZERO_BALANCE_CODE_FACTORIZE','EXPENSES']]\n",
    "y_train = pd.DataFrame()\n",
    "y_train['NEW_LOAN_DELINQUENCY_STATUS'] = df['NEW_LOAN_DELINQUENCY_STATUS']\n",
    "y_train = np.ravel(y_train)\n",
    "x_train.dtypes\n",
    "x_test = pd.DataFrame()\n",
    "x_test = df_test[['CURRENT_ACTUAL_UPB','LOAN_AGE','REMAINING_MONTHS_TO_LEGAL_MATURITY','CURRENT_INTEREST_RATE','CURRENT_DEFERRED_UPB','MI_RECOVERIES','NON_MI_RECOVERIES','Actual_Loss_Calculation','Modification_Cost','REPURCHASE_FLAG_FACTORIZE','MODIFICATION_FLAG_FACTORIZE','ZERO_BALANCE_CODE_FACTORIZE','EXPENSES']]\n",
    "y_test = pd.DataFrame()\n",
    "y_test['NEW_LOAN_DELINQUENCY_STATUS'] = df_test['NEW_LOAN_DELINQUENCY_STATUS']\n",
    "y_test = np.ravel(y_test)\n",
    "x_test.dtypes"
   ]
  },
  {
   "cell_type": "code",
   "execution_count": 24,
   "metadata": {
    "collapsed": false
   },
   "outputs": [
    {
     "name": "stdout",
     "output_type": "stream",
     "text": [
      "(19632673, 13)\n",
      "(18600066, 13)\n"
     ]
    }
   ],
   "source": [
    "print(x_train.shape)\n",
    "print(x_test.shape)"
   ]
  },
  {
   "cell_type": "code",
   "execution_count": 25,
   "metadata": {
    "collapsed": false,
    "scrolled": false
   },
   "outputs": [
    {
     "name": "stdout",
     "output_type": "stream",
     "text": [
      "Logistic Regression model computation has started\n",
      "Logistic Regression model computation has completed\n",
      "Model testing has started\n",
      "Model testing has completed\n",
      "Accuracy Score: 0.928590683495\n",
      "Confusion Matrix:\n",
      "[[17248677     3191]\n",
      " [ 1325027    23171]]\n"
     ]
    },
    {
     "data": {
      "image/png": "[encoded data removed]",
      "text/plain": [
       "<matplotlib.figure.Figure at 0x7f9dab6d7320>"
      ]
     },
     "metadata": {},
     "output_type": "display_data"
    }
   ],
   "source": [
    "model, algo_name = logisticRegression(x_train, y_train)\n",
    "accu_score,confusion_matrix = predictAndEvaluate(model, x_test, y_test)\n",
    "#list_of_model_and_accurancySocres.append((algo_name,accu_score, model))"
   ]
  },
  {
   "cell_type": "code",
   "execution_count": null,
   "metadata": {
    "collapsed": false,
    "scrolled": false
   },
   "outputs": [
    {
     "name": "stdout",
     "output_type": "stream",
     "text": [
      "Random Forest model computation has started\n",
      "Random Forest model computation has completed\n",
      "Model testing has started\n",
      "Model testing has completed\n",
      "Accuracy Score: 0.897071386736\n",
      "Confusion Matrix:\n",
      "[[16454619   797249]\n",
      " [ 1117230   230968]]\n"
     ]
    },
    {
     "data": {
      "image/png": "[encoded data removed]",
      "text/plain": [
       "<matplotlib.figure.Figure at 0x7f9c9baf3198>"
      ]
     },
     "metadata": {},
     "output_type": "display_data"
    }
   ],
   "source": [
    "model, algo_name = randomForestClassifier(x_train, y_train)\n",
    "accu_score,confusion_matrix = predictAndEvaluate(model, x_test, y_test)\n",
    "#list_of_model_and_accurancySocres.append((algo_name,accu_score, model))"
   ]
  },
  {
   "cell_type": "code",
   "execution_count": null,
   "metadata": {
    "collapsed": false,
    "scrolled": false
   },
   "outputs": [
    {
     "name": "stdout",
     "output_type": "stream",
     "text": [
      "Neural Network based Classification model computation has started\n",
      "Neural Network based Classification model computation has completed\n",
      "Model testing has started\n",
      "Model testing has completed\n",
      "Accuracy Score: 0.915058849791\n",
      "Confusion Matrix:\n",
      "[[16990339   261529]\n",
      " [ 1318382    29816]]\n"
     ]
    }
   ],
   "source": [
    "model, algo_name = neuralNetClassifier(x_train, y_train)\n",
    "accu_score, confusion_matrix = predictAndEvaluate(model, x_test, y_test)\n",
    "#list_of_model_and_accurancySocres.append((algo_name,accu_score, model))"
   ]
  },
  {
   "cell_type": "code",
   "execution_count": null,
   "metadata": {
    "collapsed": false,
    "scrolled": false
   },
   "outputs": [],
   "source": [
    "#model,algo_name = svc(x_train.head(50000), y_train[0:50000])\n",
    "#accu_score, confusion_matrix = predictAndEvaluate(model, x_test.head(50000), y_test[0:50000])\n",
    "#list_of_model_and_accurancySocres.append((algo_name,accu_score, model))"
   ]
  },
  {
   "cell_type": "code",
   "execution_count": null,
   "metadata": {
    "collapsed": true
   },
   "outputs": [],
   "source": [
    "list_of_model_and_accurancySocres = []"
   ]
  },
  {
   "cell_type": "code",
   "execution_count": null,
   "metadata": {
    "collapsed": false,
    "scrolled": false
   },
   "outputs": [
    {
     "name": "stdout",
     "output_type": "stream",
     "text": [
      "[(1, 'CURRENT_INTEREST_RATE'), (1, 'LOAN_AGE'), (1, 'MODIFICATION_FLAG_FACTORIZE'), (1, 'REPURCHASE_FLAG_FACTORIZE'), (1, 'ZERO_BALANCE_CODE_FACTORIZE'), (2, 'EXPENSES'), (2, 'REMAINING_MONTHS_TO_LEGAL_MATURITY'), (3, 'MI_RECOVERIES'), (3, 'NON_MI_RECOVERIES'), (4, 'Actual_Loss_Calculation'), (4, 'CURRENT_DEFERRED_UPB'), (5, 'CURRENT_ACTUAL_UPB'), (5, 'Modification_Cost')]\n",
      "Empty DataFrame\n",
      "Columns: []\n",
      "Index: []\n",
      "LOAN_AGE                       0.0\n",
      "CURRENT_INTEREST_RATE          0.0\n",
      "REPURCHASE_FLAG_FACTORIZE      0.0\n",
      "MODIFICATION_FLAG_FACTORIZE    0.0\n",
      "ZERO_BALANCE_CODE_FACTORIZE    0.0\n",
      "dtype: float64\n",
      "LOAN_AGE                       0.0\n",
      "CURRENT_INTEREST_RATE          0.0\n",
      "REPURCHASE_FLAG_FACTORIZE      0.0\n",
      "MODIFICATION_FLAG_FACTORIZE    0.0\n",
      "ZERO_BALANCE_CODE_FACTORIZE    0.0\n",
      "dtype: float64\n",
      "(19632673, 5)\n",
      "(18600066, 5)\n"
     ]
    }
   ],
   "source": [
    "# Create the RFE object and rank each pixel\n",
    "lr = LogisticRegression()\n",
    "rfe = RFE(estimator=lr, n_features_to_select=5, step=2)\n",
    "rfe.fit(x_train.head(1000000),y_train[0:1000000])\n",
    "#ranking = rfe.ranking_.reshape(digits.images[0].shape)\n",
    "ranking = rfe.ranking_\n",
    "ranking_out = zip(map(lambda x: round(x, 4), rfe.ranking_), x_train.columns)\n",
    "print(sorted(zip(map(lambda x: round(x, 4), rfe.ranking_), x_train.columns)))\n",
    "df_train_x,df_test_x = filterFrameWithRequiredFeatuers(x_train,x_test, ranking_out)\n",
    "print(df_train_x.shape)\n",
    "print(df_test_x.shape)"
   ]
  },
  {
   "cell_type": "code",
   "execution_count": null,
   "metadata": {
    "collapsed": false
   },
   "outputs": [],
   "source": [
    "type(y_test)\n",
    "counts,counts_1 = np.unique(y_test,return_counts=True)"
   ]
  },
  {
   "cell_type": "code",
   "execution_count": null,
   "metadata": {
    "collapsed": false
   },
   "outputs": [
    {
     "data": {
      "text/plain": [
       "18600066"
      ]
     },
     "execution_count": 32,
     "metadata": {},
     "output_type": "execute_result"
    }
   ],
   "source": [
    "len(y_test)"
   ]
  },
  {
   "cell_type": "code",
   "execution_count": null,
   "metadata": {
    "collapsed": false
   },
   "outputs": [
    {
     "data": {
      "text/plain": [
       "17251868"
      ]
     },
     "execution_count": 33,
     "metadata": {},
     "output_type": "execute_result"
    }
   ],
   "source": [
    "counts_1[0]"
   ]
  },
  {
   "cell_type": "code",
   "execution_count": null,
   "metadata": {
    "collapsed": false
   },
   "outputs": [],
   "source": [
    "col_names = ['Classification_Algorithm','Number_of_Actual_Delinquents','Number_of_predicted_delinquents','Number_of_records_in_dataset','Number_of_delinquents_properly_classified','Number_of_non- delinquents_improperly_classified_as_delinquents']\n",
    "out_matrix = pd.DataFrame(columns=col_names)"
   ]
  },
  {
   "cell_type": "code",
   "execution_count": null,
   "metadata": {
    "collapsed": true
   },
   "outputs": [],
   "source": [
    "def addRowToDataFrame(confusion_matrix_input,y_values,col_names,output_matrix,algo_name_in):\n",
    "    counts,counts_1 = np.unique(y_values,return_counts=True)\n",
    "    temp = [counts_1[1],confusion_matrix_input[0][1]+confusion_matrix_input[1][1],len(y_values),confusion_matrix_input[1][1],confusion_matrix_input[0][1]]\n",
    "    temp = np.asarray(temp)\n",
    "    print(temp)\n",
    "    print(temp[0])\n",
    "    output_matrix = output_matrix.append({'Classification_Algorithm':algo_name_in,'Number_of_Actual_Delinquents':temp[0], 'Number_of_predicted_delinquents':temp[1],'Number_of_records_in_dataset':temp[2],'Number_of_delinquents_properly_classified':temp[3],'Number_of_non- delinquents_improperly_classified_as_delinquents':temp[4]}, ignore_index=True)\n",
    "    return output_matrix"
   ]
  },
  {
   "cell_type": "code",
   "execution_count": null,
   "metadata": {
    "collapsed": false,
    "scrolled": true
   },
   "outputs": [
    {
     "name": "stdout",
     "output_type": "stream",
     "text": [
      "Logistic Regression model computation has started\n",
      "Logistic Regression model computation has completed\n",
      "Model testing has started\n",
      "Model testing has completed\n",
      "Accuracy Score: 0.929615733622\n",
      "Confusion Matrix:\n",
      "[[17250338     1530]\n",
      " [ 1307622    40576]]\n"
     ]
    },
    {
     "data": {
      "image/png": "[encoded data removed]",
      "text/plain": [
       "<matplotlib.figure.Figure at 0x7f9c9dbb5748>"
      ]
     },
     "metadata": {},
     "output_type": "display_data"
    },
    {
     "name": "stdout",
     "output_type": "stream",
     "text": [
      "[ 1348198    42106 18600066    40576     1530]\n",
      "1348198\n"
     ]
    }
   ],
   "source": [
    "model,algo_name = logisticRegression(df_train_x,y_train)\n",
    "accu_score, confusion_matrix = predictAndEvaluate(model, df_test_x, y_test)\n",
    "list_of_model_and_accurancySocres.append((algo_name,accu_score, model))\n",
    "out_matrix = addRowToDataFrame(confusion_matrix,y_test,col_names,out_matrix,algo_name)"
   ]
  },
  {
   "cell_type": "code",
   "execution_count": null,
   "metadata": {
    "collapsed": false,
    "scrolled": true
   },
   "outputs": [
    {
     "name": "stdout",
     "output_type": "stream",
     "text": [
      "Random Forest model computation has started\n",
      "Random Forest model computation has completed\n",
      "Model testing has started\n",
      "Model testing has completed\n",
      "Accuracy Score: 0.929553314488\n",
      "Confusion Matrix:\n",
      "[[17245548     6320]\n",
      " [ 1303993    44205]]\n"
     ]
    },
    {
     "data": {
      "image/png": "[encoded data removed]",
      "text/plain": [
       "<matplotlib.figure.Figure at 0x7f9c9dbc90b8>"
      ]
     },
     "metadata": {},
     "output_type": "display_data"
    },
    {
     "name": "stdout",
     "output_type": "stream",
     "text": [
      "[ 1348198    50525 18600066    44205     6320]\n",
      "1348198\n"
     ]
    }
   ],
   "source": [
    "model, algo_name = randomForestClassifier(df_train_x, y_train)\n",
    "accu_score, confusion_matrix = predictAndEvaluate(model, df_test_x, y_test)\n",
    "list_of_model_and_accurancySocres.append((algo_name,accu_score, model))\n",
    "out_matrix = addRowToDataFrame(confusion_matrix,y_test,col_names,out_matrix,algo_name)"
   ]
  },
  {
   "cell_type": "code",
   "execution_count": null,
   "metadata": {
    "collapsed": false,
    "scrolled": true
   },
   "outputs": [
    {
     "name": "stdout",
     "output_type": "stream",
     "text": [
      "Neural Network based Classification model computation has started\n",
      "Neural Network based Classification model computation has completed\n",
      "Model testing has started\n",
      "Model testing has completed\n",
      "Accuracy Score: 0.928256867476\n",
      "Confusion Matrix:\n",
      "[[17251867        1]\n",
      " [ 1334426    13772]]\n"
     ]
    },
    {
     "data": {
      "image/png": "[encoded data removed]",
      "text/plain": [
       "<matplotlib.figure.Figure at 0x7f9c9e7204a8>"
      ]
     },
     "metadata": {},
     "output_type": "display_data"
    },
    {
     "name": "stdout",
     "output_type": "stream",
     "text": [
      "[ 1348198    13773 18600066    13772        1]\n",
      "1348198\n"
     ]
    }
   ],
   "source": [
    "model, algo_name = neuralNetClassifier(df_train_x, y_train)\n",
    "accu_score, confusion_matrix = predictAndEvaluate(model, df_test_x, y_test)\n",
    "list_of_model_and_accurancySocres.append((algo_name,accu_score, model))\n",
    "out_matrix = addRowToDataFrame(confusion_matrix,y_test,col_names,out_matrix,algo_name)"
   ]
  },
  {
   "cell_type": "code",
   "execution_count": null,
   "metadata": {
    "collapsed": false
   },
   "outputs": [
    {
     "data": {
      "text/html": [
       "<div>\n",
       "<table border=\"1\" class=\"dataframe\">\n",
       "  <thead>\n",
       "    <tr style=\"text-align: right;\">\n",
       "      <th></th>\n",
       "      <th>Classification_Algorithm</th>\n",
       "      <th>Number_of_Actual_Delinquents</th>\n",
       "      <th>Number_of_predicted_delinquents</th>\n",
       "      <th>Number_of_records_in_dataset</th>\n",
       "      <th>Number_of_delinquents_properly_classified</th>\n",
       "      <th>Number_of_non- delinquents_improperly_classified_as_delinquents</th>\n",
       "    </tr>\n",
       "  </thead>\n",
       "  <tbody>\n",
       "    <tr>\n",
       "      <th>0</th>\n",
       "      <td>Logistic Regression</td>\n",
       "      <td>1348198.0</td>\n",
       "      <td>42106.0</td>\n",
       "      <td>18600066.0</td>\n",
       "      <td>40576.0</td>\n",
       "      <td>1530.0</td>\n",
       "    </tr>\n",
       "    <tr>\n",
       "      <th>1</th>\n",
       "      <td>Random Forest Classifier</td>\n",
       "      <td>1348198.0</td>\n",
       "      <td>50525.0</td>\n",
       "      <td>18600066.0</td>\n",
       "      <td>44205.0</td>\n",
       "      <td>6320.0</td>\n",
       "    </tr>\n",
       "    <tr>\n",
       "      <th>2</th>\n",
       "      <td>Neural Network Classifier</td>\n",
       "      <td>1348198.0</td>\n",
       "      <td>13773.0</td>\n",
       "      <td>18600066.0</td>\n",
       "      <td>13772.0</td>\n",
       "      <td>1.0</td>\n",
       "    </tr>\n",
       "  </tbody>\n",
       "</table>\n",
       "</div>"
      ],
      "text/plain": [
       "    Classification_Algorithm  Number_of_Actual_Delinquents  \\\n",
       "0        Logistic Regression                     1348198.0   \n",
       "1   Random Forest Classifier                     1348198.0   \n",
       "2  Neural Network Classifier                     1348198.0   \n",
       "\n",
       "   Number_of_predicted_delinquents  Number_of_records_in_dataset  \\\n",
       "0                          42106.0                    18600066.0   \n",
       "1                          50525.0                    18600066.0   \n",
       "2                          13773.0                    18600066.0   \n",
       "\n",
       "   Number_of_delinquents_properly_classified  \\\n",
       "0                                    40576.0   \n",
       "1                                    44205.0   \n",
       "2                                    13772.0   \n",
       "\n",
       "   Number_of_non- delinquents_improperly_classified_as_delinquents  \n",
       "0                                             1530.0                \n",
       "1                                             6320.0                \n",
       "2                                                1.0                "
      ]
     },
     "execution_count": 39,
     "metadata": {},
     "output_type": "execute_result"
    }
   ],
   "source": [
    "out_matrix"
   ]
  },
  {
   "cell_type": "code",
   "execution_count": null,
   "metadata": {
    "collapsed": false
   },
   "outputs": [
    {
     "name": "stdout",
     "output_type": "stream",
     "text": [
      "Logistic Regression is best model with Accuracy Score of: 0.929615733622\n"
     ]
    }
   ],
   "source": [
    "best_algo_picked = computeBestModel(list_of_model_and_accurancySocres)"
   ]
  }
 ],
 "metadata": {
  "kernelspec": {
   "display_name": "Python 3.5 (Experimental) with Spark 2.0",
   "language": "python",
   "name": "python3-spark20"
  },
  "language_info": {
   "codemirror_mode": {
    "name": "ipython",
    "version": 3
   },
   "file_extension": ".py",
   "mimetype": "text/x-python",
   "name": "python",
   "nbconvert_exporter": "python",
   "pygments_lexer": "ipython3",
   "version": "3.5.2"
  }
 },
 "nbformat": 4,
 "nbformat_minor": 2
}